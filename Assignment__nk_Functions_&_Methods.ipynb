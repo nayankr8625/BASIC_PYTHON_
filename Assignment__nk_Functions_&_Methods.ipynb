{
  "nbformat": 4,
  "nbformat_minor": 0,
  "metadata": {
    "colab": {
      "name": " Assignment _nk- Functions & Methods.ipynb",
      "provenance": [],
      "collapsed_sections": [],
      "include_colab_link": true
    },
    "kernelspec": {
      "display_name": "Python 3",
      "language": "python",
      "name": "python3"
    },
    "language_info": {
      "codemirror_mode": {
        "name": "ipython",
        "version": 3
      },
      "file_extension": ".py",
      "mimetype": "text/x-python",
      "name": "python",
      "nbconvert_exporter": "python",
      "pygments_lexer": "ipython3",
      "version": "3.7.3"
    }
  },
  "cells": [
    {
      "cell_type": "markdown",
      "metadata": {
        "id": "view-in-github",
        "colab_type": "text"
      },
      "source": [
        "<a href=\"https://colab.research.google.com/github/nayankr8625/BASIC_PYTHON_/blob/master/Assignment__nk_Functions_%26_Methods.ipynb\" target=\"_parent\"><img src=\"https://colab.research.google.com/assets/colab-badge.svg\" alt=\"Open In Colab\"/></a>"
      ]
    },
    {
      "cell_type": "markdown",
      "metadata": {
        "id": "Aq5jjKHb-zdZ"
      },
      "source": [
        "# <u> Problem 1</u>\n",
        "\n",
        "### Write a function which takes the excel column name as an input and returns the corresponding column number. A few examples are :\n",
        "\n",
        "* column name = <code>'J'</code> , column number = <code>10</code>\n",
        "* column name = <code>'AP'</code> , column number = <code>42</code>\n",
        "* column name = <code>'AAA'</code>, column number = <code>703</code>\n"
      ]
    },
    {
      "cell_type": "code",
      "metadata": {
        "id": "Un0QXOa3-zdb"
      },
      "source": [
        "def get_excel_column_number(column_name):\n",
        "  '''\n",
        "  This functions returns the corresponding column number for an excel column name\n",
        "  '''\n",
        "  # Write your code here\n",
        "  alphabets=[i.upper()  for i in ('abcdefghijklmnopqrstuvwxyz')]\n",
        "  number=list(range(1,27))\n",
        "  alphabet_dict=dict(zip(alphabets,number))\n",
        "\n",
        "  excel_number=[alphabet_dict[letter]*26**index for index,letter in enumerate(column_name[::-1])]\n",
        "\n",
        "  return sum(excel_number)\n",
        "\n",
        "\n",
        "\n",
        "\n",
        "\n",
        "  "
      ],
      "execution_count": null,
      "outputs": []
    },
    {
      "cell_type": "code",
      "metadata": {
        "id": "VFSrFUwP-zdd",
        "colab": {
          "base_uri": "https://localhost:8080/"
        },
        "outputId": "bf6bc196-fa52-4fd4-d087-574e3d99b599"
      },
      "source": [
        "# Check\n",
        "get_excel_column_number('BD')"
      ],
      "execution_count": null,
      "outputs": [
        {
          "output_type": "execute_result",
          "data": {
            "text/plain": [
              "56"
            ]
          },
          "metadata": {},
          "execution_count": 29
        }
      ]
    },
    {
      "cell_type": "code",
      "metadata": {
        "id": "AZaQlyAc-zde",
        "colab": {
          "base_uri": "https://localhost:8080/"
        },
        "outputId": "eb66295c-b3e7-4343-84d6-176553b6131b"
      },
      "source": [
        "# Check\n",
        "get_excel_column_number('ALQE')"
      ],
      "execution_count": null,
      "outputs": [
        {
          "output_type": "execute_result",
          "data": {
            "text/plain": [
              "26135"
            ]
          },
          "metadata": {},
          "execution_count": 30
        }
      ]
    },
    {
      "cell_type": "markdown",
      "metadata": {
        "id": "zh_MA_BN-zd5"
      },
      "source": [
        "# <u> Problem 2</u>\n",
        "\n",
        "### We evaluate a standard machine learning classification model using various evaluation metrics. A classification model is a model which classifies a given observation or an event to a fixed set of categories. Suppose I train a machine learning model to classify images of cats and dogs. For each image, the machine classifies the image with either a <code>'Cat'</code> or a <code>'Dog'</code>. So in essence for each input image, there is a corresponding output by the model. This output can either be a <code>'Cat'</code> or a <code>'Dog'</code>.\n",
        "\n",
        "### To evaluate such a machine learning model which is trained to classify a given observation with at most two labels, a lot of candidate evaluation metrics are available. Accuracy is one of such evaluation metrics. \n",
        "\n",
        "### <u> Accuracy defintion </u> : Suppose you are given 20 input images of cats and dogs. You already know from these images that there are 11 cats and 9 dogs. You train a machine learning model to classify these images into cats and dogs. The machine predicts 9 cats correctly and 8 dogs correctly. The accuracy of the model is then defined as (correctly predicted cats and dogs)/(total cats and dogs). In this case it is (9+8)/(11+9) = 17/20 = 0.85 or 85%. It is a good practice to report the accuracy in percentages\n",
        "\n"
      ]
    },
    {
      "cell_type": "markdown",
      "metadata": {
        "id": "cp2SUazju_D7"
      },
      "source": [
        "### You are given two lists each of length 20 : one list contains the actual labels for the images of cats and dogs. The other list contains the predicted labels (by the machine) for the images of cats and dogs.\n",
        "\n",
        "### How to read the two lists ? For example for the first image, actual label is Cat and the predicted label is Cat. For the last image, actual label is Dog and the predicted label is Cat. The same index in the two lists corresponds to the same image"
      ]
    },
    {
      "cell_type": "code",
      "metadata": {
        "id": "BPsQbNPjvjAT"
      },
      "source": [
        "actual_labels = ['Cat','Dog','Cat','Cat','Dog','Cat','Dog','Cat','Cat','Cat','Dog','Dog','Cat','Cat','Cat','Dog','Dog','Dog','Cat','Dog']"
      ],
      "execution_count": null,
      "outputs": []
    },
    {
      "cell_type": "code",
      "metadata": {
        "id": "MDefeYf1v4pT"
      },
      "source": [
        "predicted_labels = ['Cat','Dog','Cat','Cat','Dog','Cat','Dog','Cat','Dog','Dog','Dog','Dog','Cat','Cat','Cat','Dog','Dog','Dog','Cat','Cat']"
      ],
      "execution_count": null,
      "outputs": []
    },
    {
      "cell_type": "markdown",
      "metadata": {
        "id": "hzLROuvWwZAL"
      },
      "source": [
        "### Write a function to calculate the accuracy. This functions takes two lists as inputs and returns the accuracy score in percentage"
      ]
    },
    {
      "cell_type": "code",
      "metadata": {
        "id": "HvDJXfL3-zd6"
      },
      "source": [
        "def calculate_accuracy(actual, predicted):\n",
        "  '''\n",
        "  This functions calculates the accuracy based on two input lists\n",
        "  '''\n",
        "  # Write your code here\n",
        "  combined_list=zip(actual,predicted)\n",
        "  accuracy_list=sum([ac==pc for ac,pc in combined_list])\n",
        "\n",
        "  accuracy=(accuracy_list/len(actual))*100\n",
        "  return(f'Accuracy is {accuracy}%')\n",
        "  \n",
        "\n",
        "\n",
        "\n",
        "\n",
        "\n",
        "\n"
      ],
      "execution_count": null,
      "outputs": []
    },
    {
      "cell_type": "code",
      "metadata": {
        "id": "At0m0hcc-zd_",
        "colab": {
          "base_uri": "https://localhost:8080/",
          "height": 35
        },
        "outputId": "83dee40b-7179-4a56-8404-7a8027b2a194"
      },
      "source": [
        "# Print the accuracy score for the given lists\n",
        "calculate_accuracy(actual_labels,predicted_labels)"
      ],
      "execution_count": null,
      "outputs": [
        {
          "output_type": "execute_result",
          "data": {
            "text/plain": [
              "'Accuracy is 85.0%'"
            ],
            "application/vnd.google.colaboratory.intrinsic+json": {
              "type": "string"
            }
          },
          "metadata": {},
          "execution_count": 22
        }
      ]
    },
    {
      "cell_type": "markdown",
      "metadata": {
        "id": "YyYwXAlax36r"
      },
      "source": [
        "* ### <b><u>Precision</u></b> for cats is defined as the number of correctly predicted cats divided by the number of predicted cats. Report precision in percentages.\n",
        "\n",
        "* ### <b><u>Recall</u></b> for cats is defined as the number of correctly predicted cats divided by the actual number of cats. Report recall in percentages.\n",
        "\n",
        "### We can define the same two metrics for dogs as well. \n"
      ]
    },
    {
      "cell_type": "markdown",
      "metadata": {
        "id": "VwYIek-9yd4n"
      },
      "source": [
        "# <u> Problem 3 </u> \n",
        "\n",
        "### Write a Python function which returns the precision and recall for a given input label. Use the same two lists"
      ]
    },
    {
      "cell_type": "code",
      "metadata": {
        "id": "SojiZTMSyY4T"
      },
      "source": [
        "def precision_recall(label = 'Dog'):\n",
        "  '''\n",
        "  This functions returns a tuple of precision and recall for a given input label\n",
        "  '''\n",
        "  # Your code here\n",
        "  combined_list=zip(actual_labels,predicted_labels)\n",
        "  correct_pred=sum([actual==predicted for actual,predicted in combined_list if actual==label])\n",
        "\n",
        "  actual_no_of_label=actual_labels.count(label)\n",
        "  predicted_no_of_label=predicted_labels.count(label)\n",
        "  \n",
        "  precision=correct_pred/predicted_no_of_label * 100\n",
        "  recall=correct_pred/actual_no_of_label * 100\n",
        "\n",
        "  return precision,recall\n",
        "\n",
        "\n",
        "\n",
        "\n",
        "\n",
        "\n",
        "\n",
        "  "
      ],
      "execution_count": null,
      "outputs": []
    },
    {
      "cell_type": "code",
      "source": [
        "precision_recall(label='Cat')"
      ],
      "metadata": {
        "colab": {
          "base_uri": "https://localhost:8080/"
        },
        "id": "wK8BYRiKTLO4",
        "outputId": "73672bd2-6367-4b2e-95e1-a4f3ad72ce8e"
      },
      "execution_count": null,
      "outputs": [
        {
          "output_type": "execute_result",
          "data": {
            "text/plain": [
              "(90.0, 81.81818181818183)"
            ]
          },
          "metadata": {},
          "execution_count": 27
        }
      ]
    },
    {
      "cell_type": "markdown",
      "metadata": {
        "id": "I-5eBWXa1Mla"
      },
      "source": [
        "# <u> Problem 4 </u>\n",
        "\n",
        "### Write a Python function which takes a sentence and a length value as inputs and returns the counts of those words from the sentence whose length is equal to the provided input length value.\n",
        "\n",
        "### Suppose if the input for the length value is 5, it will return the count of all those words which are of length 5"
      ]
    },
    {
      "cell_type": "code",
      "metadata": {
        "id": "9ueu9nJx1uUZ"
      },
      "source": [
        "marvel_quote = \"The world has changed and none of us can go back. All we can do is our best, and sometimes the best that we can do is to start over.\""
      ],
      "execution_count": null,
      "outputs": []
    },
    {
      "cell_type": "code",
      "metadata": {
        "id": "9OPAUOCT2VQW"
      },
      "source": [
        "# Your function below. Make sure to remove the special characters such as full stop and comma.\n",
        "def fixed_length_word_counts(sentence, length=3):\n",
        "  '''\n",
        "  This function returns the count of the words with the given input length\n",
        "  '''\n",
        "  # Your code below\n",
        "  sentence=sentence.replace(',','')\n",
        "  sentence=sentence.replace('.','').split()\n",
        "\n",
        "  list_of_words=[word for word in sentence if len(word)==length]\n",
        "  count=len(list_of_words)\n",
        "  return(f'Count of the word with given input length is {count}')\n",
        "  \n",
        "\n",
        "\n",
        "\n",
        "\n",
        "\n",
        "\n",
        "\n"
      ],
      "execution_count": null,
      "outputs": []
    },
    {
      "cell_type": "code",
      "metadata": {
        "id": "Px7OQG0j2iab",
        "colab": {
          "base_uri": "https://localhost:8080/",
          "height": 35
        },
        "outputId": "001983ca-b5fa-485e-a733-ddf7817b8cb9"
      },
      "source": [
        "# Check on the sample sentence\n",
        "fixed_length_word_counts(marvel_quote,length=5)"
      ],
      "execution_count": null,
      "outputs": [
        {
          "output_type": "execute_result",
          "data": {
            "text/plain": [
              "'Count of the word with given input length is 2'"
            ],
            "application/vnd.google.colaboratory.intrinsic+json": {
              "type": "string"
            }
          },
          "metadata": {},
          "execution_count": 12
        }
      ]
    },
    {
      "cell_type": "code",
      "source": [
        ""
      ],
      "metadata": {
        "id": "qToZDACpmmON"
      },
      "execution_count": null,
      "outputs": []
    }
  ]
}